{
 "cells": [
  {
   "cell_type": "markdown",
   "id": "0a6fcbb6",
   "metadata": {},
   "source": [
    "# Домашнее задание 4\n",
    "\n",
    "Это домашнее задание по материалам второго семинаров. Дедлайн по отправке - 23:55 3 марта. \n",
    "\n",
    "Домашнее задание выполняется в этом же Jupyter Notebook'e и присылается мне на почту: __beznosikov.an@phystech.edu__.\n",
    "\n",
    "Решение каждой задачи необходимо поместить после её условия.\n",
    "\n",
    "Файл должен называться: Фамилия_Имя_Optimization_HW_4\n",
    "\n",
    "При полном запуске Вашего решения (Kernel -> Restart & Run All) все ячейки должны выполняться без ошибок. "
   ]
  },
  {
   "cell_type": "markdown",
   "id": "969a8d32",
   "metadata": {},
   "source": [
    "## Задача 1\n",
    "\n",
    "Рассмотрим задачу минимизации:\n",
    "\\begin{equation}\n",
    "\\min_{x \\in \\triangle_d} f(x) = \\frac{1}{2}x^T A x,\n",
    "\\end{equation}\n",
    "где в качестве матрицы $A$ - случайная матрица (уже умеем генерировать) с $L =1000$, $\\mu = 1$, а $\\triangle_d$ - вероятностный симплекс:\n",
    "$$\n",
    "\\triangle_d = \\{x ~|~ x_i \\geq 0, \\sum_{i=1}^d x_i = 1\\}.\n",
    "$$\n",
    "\n",
    "__(а)__ Для такой задачи напишите итерацию зеркального спуска с дивергенцией Брегмана, порожденной энтропийной функцией. Найдите выражение для итерации метода в явном виде (без подсчетов $\\arg\\min$)."
   ]
  },
  {
   "cell_type": "code",
   "execution_count": 3,
   "id": "7c3f0b4c",
   "metadata": {},
   "outputs": [],
   "source": [
    "#matrix generation, from first homework\n",
    "import numpy as np \n",
    "from numpy import linalg \n",
    "\n",
    "def rvs(dim=3):\n",
    "     random_state = np.random\n",
    "     H = np.eye(dim)\n",
    "     D = np.ones((dim,))\n",
    "     for n in range(1, dim):\n",
    "         x = random_state.normal(size=(dim-n+1,))\n",
    "         D[n-1] = np.sign(x[0])\n",
    "         x[0] -= D[n-1]*np.sqrt((x*x).sum())\n",
    "         # Householder transformation\n",
    "         Hx = (np.eye(dim-n+1) - 2.*np.outer(x, x)/(x*x).sum())\n",
    "         mat = np.eye(dim)\n",
    "         mat[n-1:, n-1:] = Hx\n",
    "         H = np.dot(H, mat)\n",
    "     D[-1] = (-1)**(1-(dim % 2))*D.prod()\n",
    "     H = (D*H.T).T\n",
    "     return H\n",
    "    \n",
    "def generate_matrix(d, m, L):  \n",
    "    A = np.eye(d) \n",
    "    A[0, 0] = L\n",
    "    A[1, 1] = m\n",
    "    S = rvs(d) \n",
    "    A = np.dot(np.linalg.inv(S), np.dot(A, S))\n",
    "    return A "
   ]
  },
  {
   "cell_type": "markdown",
   "id": "9d13630a",
   "metadata": {},
   "source": [
    "Шаг зеркального спуска c дивергенцией Брегмана, порожденной энтропийной функцией: \n",
    "    $$ x^{k + 1} =  argmin_{x \\in \\triangle_{d}} (\\nabla f(x^{k}), x) + \\sum_{i}^{d} x_{i}ln \\cfrac{x_{i}}{x_{i}^{k}}$$\n",
    "    \n",
    "Воспользуемся теоремой ККТ: для начала запишем лагранжиан: \n",
    "\n",
    "$$L = (\\nabla f(x^{k}), x) + \\sum_{i = 1}^{d}x_{i}ln\\cfrac{x_{i}}{x_{i}^{k}} - \\sum_{i = 1}^{d}\\lambda_{i}x_{i} + \\mu(\\sum_{i = 1}^{d}x_{i} - 1)$$ \n",
    "\n",
    "$$\\cfrac{\\partial L}{\\partial x_{i}} = \\nabla f(x_{i}^{k}) + ln \\cfrac{x_{i}}{x_{i}^{k}} + x_{i}^{k} - \\lambda_{i} + \\mu = 0$$ \n",
    "\n",
    "Избавимся от $\\lambda$: \n",
    "    $$\\nabla f(x_{i}^{k}) + ln \\cfrac{x_{i}}{x_{i}^{k}} + x_{i}^{k} + \\mu \\geq 0$$ \n",
    "    \n",
    "Воспользуемся условием, дополняющей нежесткости:      \n",
    "\n",
    "$$(\\nabla f(x_{i}^{k}) + ln \\cfrac{x_{i}}{x_{i}^{k}} + x_{i}^{k} + \\mu)x_{i} = 0$$ \n",
    "\n",
    "Откуда можно получить, что: \n",
    "\n",
    "$$x_{i}^{k + 1} = x_{i} = x_{i}^{k}exp(-\\mu - \\nabla f(x_{i}^{k}) - x_{i}^{k})$$ \n",
    "\n",
    "Отметим также, что условие Слейтера выполнено для данной задачи, что найдется $x^{k} > 0$, ну значит он и есть минимум, следуя достаточному условию. \n",
    "\n",
    "$\\mu$ найдем из суммы координат равной 1. Не сложно получить, что \n",
    "\n",
    "$$exp(\\mu) = \\sum_{i = 1}^{d}x_{i}^{k}exp(-\\nabla f(x_{i}^{k}) - x_{i}^{k}))$$ \n",
    "\n",
    "$$\\mu = \\sum_{i = 1}^{d}ln(x_{i}^{k}) - \\nabla f(x_{i}^{k}) - x_{i}^{k}$$"
   ]
  },
  {
   "cell_type": "markdown",
   "id": "ecdb57fe",
   "metadata": {},
   "source": [
    "__(б)__ Реализуйте метод зеркального спуска из пункта (а). Постройте для него график сходимости по времени и по итерациям. В качестве критерия сходимости используйте:\n",
    "$$\n",
    "\\text{gap}(x^k) = \\max_{y \\in \\triangle_d} \\langle \\nabla f(x^k), x^k - y \\rangle,\n",
    "$$\n",
    "или усредненную версию $\\frac{1}{k} \\sum_{i=1}^k \\text{gap}(x^i)$. Найдите выражение в явном виде для подсчета $\\text{gap}(x^k)$."
   ]
  },
  {
   "cell_type": "markdown",
   "id": "32d36713",
   "metadata": {},
   "source": [
    "Пользуясь тем, что мы работаем на вероятностном симплексе, мы можем, не записывая ККТ, сделать вывод, что: \n",
    "\n",
    "$$gap(x^{k}) = \\nabla f^{T}(x^{k})x^{k} - min_{i}(\\nabla f(x_{i}^{k}))$$"
   ]
  },
  {
   "cell_type": "code",
   "execution_count": 166,
   "id": "6523c630",
   "metadata": {},
   "outputs": [],
   "source": [
    "import math  \n",
    "eps = 1e-6\n",
    "class MirrorDescent: \n",
    "    def __init__(self, d, max_iter = 10000): \n",
    "        self.d = d \n",
    "        self.A = generate_matrix(self.d, 1, 1000) \n",
    "        self.x = None \n",
    "        self.gap_history = []  \n",
    "        self.max_iter = max_iter\n",
    "        \n",
    "    def f(self): \n",
    "        return 1/2 * np.dot(x.T, np.dot(A, x))\n",
    "        \n",
    "    def grad_f(self): \n",
    "        return 1/2 * np.dot((self.A.T + self.A), self.x)\n",
    "    \n",
    "    def fit(self):  \n",
    "        self.x = np.random.normal(loc=1, size=(self.d,))  \n",
    "        mu = 0 \n",
    "        for i in range(self.max_iter): \n",
    "            g = self.grad_f() \n",
    "            \n",
    "            for i in range(self.d):  \n",
    "                arg = np.clip(-g[i] - self.x[i], None, 20)\n",
    "                mu += self.x[i] * np.exp(arg)   \n",
    "            mu = np.clip(mu, eps, None) \n",
    "            mu = np.log(mu)\n",
    "            \n",
    "            arg = np.clip(-mu - g - self.x, None, 20)\n",
    "            self.x = self.x * np.exp(arg)\n",
    "            self.gap_history.append(np.dot(g.T, self.x) - np.min(g)) "
   ]
  },
  {
   "cell_type": "code",
   "execution_count": 167,
   "id": "be9f3c0c",
   "metadata": {},
   "outputs": [
    {
     "name": "stderr",
     "output_type": "stream",
     "text": [
      "/tmp/ipykernel_269602/638909306.py:25: RuntimeWarning: overflow encountered in double_scalars\n",
      "  mu += self.x[i] * np.exp(arg)\n",
      "/tmp/ipykernel_269602/638909306.py:25: RuntimeWarning: invalid value encountered in double_scalars\n",
      "  mu += self.x[i] * np.exp(arg)\n"
     ]
    }
   ],
   "source": [
    "md = MirrorDescent(100) \n",
    "md.fit()"
   ]
  },
  {
   "cell_type": "code",
   "execution_count": 168,
   "id": "6395cccd",
   "metadata": {},
   "outputs": [
    {
     "data": {
      "image/png": "[encoded data removed]",
      "text/plain": [
       "<Figure size 1440x936 with 1 Axes>"
      ]
     },
     "metadata": {
      "needs_background": "light"
     },
     "output_type": "display_data"
    }
   ],
   "source": [
    "import matplotlib.pyplot as plt  \n",
    "plt.figure(figsize=(20, 13)) \n",
    "plt.title('Mirror descent', fontsize=20)\n",
    "result = np.clip(md.gap_history, eps, None)\n",
    "plt.plot(range(10000), np.log(result), label='Mirror descent')  \n",
    "plt.xlabel('Iteration', fontsize=20)  \n",
    "plt.ylabel('Gap value', fontsize=20)\n",
    "plt.legend()\n",
    "plt.grid() \n",
    "plt.show()"
   ]
  },
  {
   "cell_type": "markdown",
   "id": "3fe201d2",
   "metadata": {},
   "source": [
    "__(в)__ Для этой же задачи напишите итерацию метода Франка-Вульфа. Реализуйте этот метод. Постройте для него график сходимости по времени и по итерациям. Добавьте эти графики к графикам для зеркального спуска. Сделайте вывод."
   ]
  },
  {
   "cell_type": "code",
   "execution_count": null,
   "id": "d40582dc",
   "metadata": {},
   "outputs": [],
   "source": [
    "#ответ"
   ]
  },
  {
   "cell_type": "markdown",
   "id": "56317873",
   "metadata": {},
   "source": [
    "__Бонусные пункты__\n",
    "\n",
    "__(г)__ Реализуйте метод градиентного спуска для нашей задачи. Для этого найдите в Интернете алгоритм евклидовой проекции на вероятностный симплекс. Постройте для градиентного спуска с евклидовой проекцией график сходимости по времени и по итерациям. Добавьте эти графики к графикам для зеркального спуска и метода Франка-Вульфа. Сделайте вывод."
   ]
  },
  {
   "cell_type": "code",
   "execution_count": null,
   "id": "caad1f26",
   "metadata": {},
   "outputs": [],
   "source": [
    "#ответ"
   ]
  },
  {
   "cell_type": "markdown",
   "id": "5de0ffdd",
   "metadata": {},
   "source": [
    "__(д)__ В [работе](https://sci-hub.ru/https://doi.org/10.1137/140992382) представлена ускоренная версия метода Франка-Вульфа (Алгоритм 2 для сильно выпуклой задачи). Он лучше с точки зрения теоретической сходимости по числу вызовов градиента. Реализуйте Алгоритм 2 для нашей задачи. Постройте график сходимости по времени и по количеству подсчетов $\\nabla f$ (для предыдущих методов это было эквивалетно итерациям). Добавьте эти графики к графикам для остальных методов которые были получены выше. Сделайте вывод."
   ]
  },
  {
   "cell_type": "code",
   "execution_count": null,
   "id": "ead8a333",
   "metadata": {},
   "outputs": [],
   "source": [
    "#ответ"
   ]
  }
 ],
 "metadata": {
  "kernelspec": {
   "display_name": "Python 3 (ipykernel)",
   "language": "python",
   "name": "python3"
  },
  "language_info": {
   "codemirror_mode": {
    "name": "ipython",
    "version": 3
   },
   "file_extension": ".py",
   "mimetype": "text/x-python",
   "name": "python",
   "nbconvert_exporter": "python",
   "pygments_lexer": "ipython3",
   "version": "3.10.6"
  }
 },
 "nbformat": 4,
 "nbformat_minor": 5
}
