{
 "cells": [
  {
   "cell_type": "markdown",
   "id": "0a6fcbb6",
   "metadata": {},
   "source": [
    "# Домашнее задание 2\n",
    "\n",
    "Это домашнее задание по материалам второго семинаров. Дедлайн по отправке - 23:55 17 февраля. \n",
    "\n",
    "Домашнее задание выполняется в этом же Jupyter Notebook'e и присылается мне на почту: __beznosikov.an@phystech.edu__.\n",
    "\n",
    "Решение каждой задачи необходимо поместить после её условия.\n",
    "\n",
    "Файл должен называться: Фамилия_Имя_Optimization_HW_2\n",
    "\n",
    "При полном запуске Вашего решения (Kernel -> Restart & Run All) все ячейки должны выполняться без ошибок. "
   ]
  },
  {
   "cell_type": "markdown",
   "id": "1b1a30ed",
   "metadata": {},
   "source": [
    "## Задача 1\n",
    "\n",
    "Рассмотрим проекцию на единичном $\\ell_1$-шар:\n",
    "\\begin{equation*}\n",
    "    \\text{proj}_{C}(x) = \\arg\\min_{y \\in C} \\|x-y\\|^2,\n",
    "\\end{equation*}\n",
    "где $C = \\{x ~|~ \\|x\\|_1 \\leq 1 \\}$.\n",
    "\n",
    "__(а)__ Найдите выражение для такой проекции в явном виде."
   ]
  },
  {
   "cell_type": "markdown",
   "id": "fffc3929",
   "metadata": {},
   "source": [
    "Запишем Лагранжиан функции $$proj_{C}(x) = arg min_{y \\in C} ||x - y||^2$$ \n",
    "$$L = ||x - y||^2 + \\lambda ||x||_{1} - 1$$ \n",
    "Задача выпуклая, но не дифференцируемая, используем, необходимое условие минимума через субградиент.  \n",
    "\\begin{equation} \n",
    "    \\partial L_{i} = \n",
    "        \\begin{cases}  \n",
    "            2(x_{i} - y_{i}) + \\lambda & x_{i} \\geq 0 \\\\ \n",
    "            2(x_{i} - y_{i}) - \\lambda & x_{i} \\leq 0 \\\\ \n",
    "            2(x_{i} - y_{i}) + [-\\lambda, \\lambda] & x_{i} = 0 \n",
    "        \\end{cases}\n",
    "\\end{equation}  \n",
    "\n",
    "Необходимые условия минимума: \n",
    "\n",
    "1) $0 \\in \\partial L$ \n",
    "\n",
    "2) $\\lambda(||x||_{1} - 1) = 0$ \n",
    "\n",
    "3) $\\lambda \\geq 0$  \n",
    "\n",
    "Пусть $\\lambda = 0$. Тогда $y = x$, причем $y \\in C$.  \n",
    "\n",
    "Пусть $\\lambda > 0$. Тогда $\\sum_{i} |x_{i}| = 1$. Что равносильно: $\\sum_{i}y_{i}sgn(x_{i}) - \\cfrac{\\lambda}{2} sgn^2(x_{i}) = 1$  \n",
    "\n",
    "Что в свою очередь эквивалентно такой записи(можно получить, пользуясь 3 и 1 условием): \n",
    "$\\sum \\limits_{i} (|y_{i}| - \\cfrac{\\lambda}{2})_{+} = 1$. + означает, что каждая скобка должна быть положительной.(Тут типа если x_i принимает какой-то знак равносильно $y_{i}$ принимает такой же знак и $y_{i} \\geq \\cfrac{\\lambda}{2}$)  \n",
    "\n",
    "Из всего выше скзанного, изпользуя теорему Слейтера, можно сделать вывод, что   \n",
    "\n",
    "\\begin{equation} \n",
    "    x_{i} = \n",
    "        \\begin{cases}  \n",
    "            y_{i} - \\cfrac{\\lambda}{2}, & y_{i} \\geq \\cfrac{\\lambda}{2} \\\\ \n",
    "            y_{i} + \\cfrac{\\lambda}{2}, & y_{i} \\leq \\cfrac{\\lambda}{2} \\\\ \n",
    "            0, & y_{i} \\in [-\\lambda, \\lambda] \n",
    "        \\end{cases}\n",
    "\\end{equation}   \n",
    "\n",
    "\\begin{equation} \n",
    "     proj_{C}(x)= \n",
    "        \\begin{cases}  \n",
    "            ||\\cfrac{\\lambda}{2}||^2, & y_{i} \\geq \\cfrac{\\lambda}{2} \\ или \\ y_{i} \\leq \\cfrac{\\lambda}{2}\\\\ \n",
    "            0, & y_{i} \\in [-\\lambda, \\lambda] \n",
    "        \\end{cases}\n",
    "\\end{equation}   \n"
   ]
  },
  {
   "cell_type": "markdown",
   "id": "0e95c5e2",
   "metadata": {},
   "source": [
    "__(б)__ Сравните:\n",
    "\\begin{equation*}\n",
    "    \\text{proj}_C (x) \\quad \\text{и} \\quad \\text{prox}_{\\lambda \\mathbb{I}_C} (x),\n",
    "\\end{equation*}\n",
    "где $\\lambda > 0$, а $\\mathbb{I}_C$ - индикаторная функция множества $C$:\n",
    "$$\n",
    "\\mathbb{I}_C = \n",
    "\\begin{cases}\n",
    "0 ,& x \\in C \\\\\n",
    "+\\infty, &x \\notin C.\n",
    "\\end{cases}\n",
    "$$\n",
    "Являются ли данные операторы эквивалентными для любых $\\lambda > 0$ и выпуклых $C$?"
   ]
  },
  {
   "cell_type": "markdown",
   "id": "245a02ad",
   "metadata": {},
   "source": [
    "Допустим $x \\notin C$, ну тогда получается, что $prox_{\\lambda\\mathbb{I}_C}(x) = \\cfrac{1}{2}||x - y||^2 + \\infty$, что не сходится с реальностью. "
   ]
  },
  {
   "cell_type": "markdown",
   "id": "969a8d32",
   "metadata": {},
   "source": [
    "## Задача 2\n",
    "\n",
    "Рассмотрим задачу минимизации эмпирического риска:\n",
    "\\begin{equation}\n",
    "\\min_{w \\in \\mathbb{R}^d} \\frac{1}{n} \\sum\\limits_{i=1}^n l (g(w, x_i), y_i),\n",
    "\\end{equation}\n",
    "где $l$ - функция потерь, $g$ - модель, $w$ - параметры модели, $\\{x_i, y_i\\}_{i=1}^n$ - выборка данных из векторов признаков $x_i$ и меток $y_i$.\n",
    "\n",
    "Далее будем рассматривать линейной модель $g(w, x) = w^T x$ и квадратичную функцию потерь $l(z, y) = (z-y)^2$.\n",
    "\n",
    "__(а)__ Запишите задачу минимизации эмпирического риска с линейной моделью  и квадратичной функцией потерь в векторно-матричном виде, используя $X$ - матрицу из векторов $\\{x_i\\}$ и вектор $y$ - из $\\{y_i\\}$."
   ]
  },
  {
   "cell_type": "markdown",
   "id": "02f477da",
   "metadata": {},
   "source": [
    "Функцию ошибки обозначим за $Q$.Тогда задача ставится, как $ min_{\\omega} Q = min_{omega}||X\\omega - y|| $ "
   ]
  },
  {
   "cell_type": "markdown",
   "id": "ecdb57fe",
   "metadata": {},
   "source": [
    "__(б)__ К заданию приложен датасет _mushrooms_. С помощью следующего кода сформируйте матрицу $X$ и вектор $y$:"
   ]
  },
  {
   "cell_type": "code",
   "execution_count": 1,
   "id": "561d93a9",
   "metadata": {},
   "outputs": [],
   "source": [
    "dataset = \"mushrooms.txt\" \n",
    "#файл должен лежать в той же деректории, что и notebook"
   ]
  },
  {
   "cell_type": "code",
   "execution_count": 2,
   "id": "e3b303d4",
   "metadata": {},
   "outputs": [],
   "source": [
    "from sklearn.datasets import load_svmlight_file\n",
    "data = load_svmlight_file(dataset)\n",
    "X, y = data[0].toarray(), data[1]\n",
    "n, d = X.shape "
   ]
  },
  {
   "cell_type": "code",
   "execution_count": 65,
   "id": "080ed5d6",
   "metadata": {},
   "outputs": [
    {
     "name": "stdout",
     "output_type": "stream",
     "text": [
      "8124\n",
      "сolumns: 112\n"
     ]
    }
   ],
   "source": [
    "print(y.shape[0]) \n",
    "print(\"сolumns:\", X.shape[1]) "
   ]
  },
  {
   "cell_type": "markdown",
   "id": "1d466614",
   "metadata": {},
   "source": [
    "Разделите (лучше случайно) данные (а значит $X$ и $y$) на две части: обучающую и тестовую (примерно в отношении $4$ к $1$). Опишите, как это было сделано."
   ]
  },
  {
   "cell_type": "code",
   "execution_count": 77,
   "id": "77aa2178",
   "metadata": {},
   "outputs": [],
   "source": [
    "import numpy as np  \n",
    "from sklearn.model_selection import train_test_split \n",
    "X_train, X_test, y_train, y_test = train_test_split(X, y, test_size=0.2, random_state=42) "
   ]
  },
  {
   "cell_type": "markdown",
   "id": "d3b84fa5",
   "metadata": {},
   "source": [
    "__(в)__ Для обучающей части $X_{train}$, $y_{train}$ оцените константу $L$ задачи обучения/оптимизации. Будет ли задача выпуклой? Сильно выпуклой?"
   ]
  },
  {
   "cell_type": "markdown",
   "id": "762e731f",
   "metadata": {},
   "source": [
    " $\\nabla Q = 2X^T(X\\omega - y)$, \n",
    " \n",
    "Константа Липшица по определению градиентов \n",
    "\n",
    "$||\\nabla Q(\\omega_{1}) - \\nabla Q(\\omega_{2})|| \\leq L||\\omega_{1} - \\omega_{2}||$ \n",
    "\n",
    "Значит $L = sup_{\\omega} \\cfrac{||\\nabla Q(\\omega_{1}) - \\nabla Q(\\omega_{2})||}{||\\omega_{1} - \\omega_{2}||}= sup_{\\omega} \\cfrac{||2X^TX(\\omega_{1} - \\omega_{2}||}{||\\omega_{1} - \\omega_{2}||}$ \n",
    "\n",
    "Или можно оценить максимальное собственное значение матрицы $2X^TX$"
   ]
  },
  {
   "cell_type": "code",
   "execution_count": 56,
   "id": "ddbd093b",
   "metadata": {},
   "outputs": [
    {
     "name": "stdout",
     "output_type": "stream",
     "text": [
      "L is equal to (168083.2354899167+0j)\n",
      "Mu is equal to (-9.104614230247668e-13+0j)\n"
     ]
    }
   ],
   "source": [
    "from numpy import linalg  \n",
    "\n",
    "w, v = np.linalg.eig(2 * X.T @ X) \n",
    "print('L is equal to', max(w)) \n",
    "print('Mu is equal to', min(w)) \n",
    "L = max(w)"
   ]
  },
  {
   "cell_type": "markdown",
   "id": "76ab84ac",
   "metadata": {},
   "source": [
    "Отсюда видно, что задача выпуклая, т.к L > 0, но не является сильно выпуклой, т.к $\\mu \\sim$ 0"
   ]
  },
  {
   "cell_type": "markdown",
   "id": "2c8a1056",
   "metadata": {},
   "source": [
    "__(г)__ Используя материалы прошлого ДЗ (по желанию), решите задачу оптимизации/обучите модель машинного обучения с помощью градиентного спуска. Изобразите график сходимости. Какой критерий сходимости будет использовать? Сделайте вывод. Опишите проблемы, с которыми пришлось столкнуться."
   ]
  },
  {
   "cell_type": "code",
   "execution_count": 125,
   "id": "bf6f1b46",
   "metadata": {},
   "outputs": [],
   "source": [
    "class GradientDescent: \n",
    "    def __init__(self, max_iter=10000, alpha =1e-3, epsilon=1e-4): \n",
    "        self.max_steps = max_iter\n",
    "        self.alpha = alpha\n",
    "        self.w = None \n",
    "        self.converges_history = [] \n",
    "        self.epsilon = epsilon  \n",
    "        self.w_history = []\n",
    "        self.converge = False\n",
    "    \n",
    "    def grad(self, w):\n",
    "        return 2 * np.dot(X.T, (np.dot(X, w) - y))   \n",
    "\n",
    "    def fit(self, X, y):  \n",
    "        self.w = np.random.normal(loc=100, size=(X.shape[1])) \n",
    "        new_w = np.zeros(X.shape[1])\n",
    "        for i in range(self.max_steps):  \n",
    "            new_w = self.w - self.alpha * self.grad(self.w) \n",
    "            self.converges_history.append(np.linalg.norm(self.w - new_w)**2)  \n",
    "            self.w_history.append(new_w)\n",
    "            if(np.linalg.norm(self.w - new_w)**2 < 1e-4): \n",
    "                self.converge = True\n",
    "            self.w = new_w  \n",
    "        return self   \n",
    "    \n",
    "    def predict(self, X): \n",
    "        y_predicted = np.dot(X, self.w)   \n",
    "        for i in range(len(y_predicted)): \n",
    "            if(np.absolute(y_predicted[i] - 1) <= np.absolute(y_predicted[i] - 2)): \n",
    "                y_predicted[i] = 1 \n",
    "            else: \n",
    "                y_predicted[i] = 2  \n",
    "        return y_predicted \n",
    "        \n",
    "    def accuracy(self, y_predicted, y_test): \n",
    "        return (np.sum(y_predicted == y_test))/(y_test.shape[0]) "
   ]
  },
  {
   "cell_type": "code",
   "execution_count": 126,
   "id": "54adc244",
   "metadata": {},
   "outputs": [
    {
     "data": {
      "text/plain": [
       "<__main__.GradientDescent at 0x7f1afece4ee0>"
      ]
     },
     "execution_count": 126,
     "metadata": {},
     "output_type": "execute_result"
    }
   ],
   "source": [
    "gd = GradientDescent(100000, 1/L)  \n",
    "gd.fit(X_train, y_train)   "
   ]
  },
  {
   "cell_type": "code",
   "execution_count": 127,
   "id": "a8e45739",
   "metadata": {},
   "outputs": [
    {
     "data": {
      "image/png": "[encoded data removed]",
      "text/plain": [
       "<Figure size 936x432 with 1 Axes>"
      ]
     },
     "metadata": {
      "needs_background": "light"
     },
     "output_type": "display_data"
    }
   ],
   "source": [
    "import matplotlib.pyplot as plt   \n",
    "plt.figure(figsize=(13, 6)) \n",
    "plt.plot(range(len(gd.converges_history)), np.log(gd.converges_history), label='GD') \n",
    "plt.title('Converges speed', fontsize=16) \n",
    "plt.legend() \n",
    "plt.xlabel('Iteration', fontsize=12) \n",
    "plt.ylabel('||x^{k + 1} - x^{k}||', fontsize=12) \n",
    "plt.grid()\n",
    "plt.show()"
   ]
  },
  {
   "cell_type": "markdown",
   "id": "5f7902e5",
   "metadata": {},
   "source": [
    "__(д)__ Как использовать итоговую модель для предсказания? Ответив на вопрос, сделайте предсказания на тестовой выборке. Сравните с реальными метками. Количество правильно угаданных меток есть точность/accuracy вашей модели. Запустите еще раз процесс обучения из пункта г), постройте как меняется точность модели от номера итерации градиентного спуска (измеряйте не каждую итерацию, а, например, каждую 100 или 1000). "
   ]
  },
  {
   "cell_type": "code",
   "execution_count": 128,
   "id": "ce3f56f5",
   "metadata": {},
   "outputs": [
    {
     "name": "stdout",
     "output_type": "stream",
     "text": [
      "1.0\n"
     ]
    }
   ],
   "source": [
    "y_predicted = gd.predict(X_test)  \n",
    "print(gd.accuracy(y_predicted, y_test))"
   ]
  },
  {
   "cell_type": "code",
   "execution_count": null,
   "id": "d3028ad6",
   "metadata": {},
   "outputs": [],
   "source": [
    "iteration = [] \n",
    "accuracy_history\n",
    "for i in range(0, len(gd._hostory), 100): \n",
    "    iteration.append(i) \n",
    "    "
   ]
  },
  {
   "cell_type": "code",
   "execution_count": 130,
   "id": "23113e18",
   "metadata": {},
   "outputs": [
    {
     "data": {
      "text/plain": [
       "<Figure size 936x432 with 0 Axes>"
      ]
     },
     "metadata": {},
     "output_type": "display_data"
    }
   ],
   "source": [
    "plt.figure(figsize=(13, 6)) \n",
    "accuracy_score = [] "
   ]
  },
  {
   "cell_type": "markdown",
   "id": "29c04712",
   "metadata": {},
   "source": [
    "__(e)__ Теперь рассмотрим эту же задачу обучения на $\\ell_1$-шаре с радиусом $\\lambda$. Повторите пункты г) и д) только теперь градиентный спуск должен быть модифицирован с помощью оператора проекции. Пробуйте различные $\\lambda > 0$ и найдите лучшее (опишите почему именно такое лучшее). Удалось ли улучшить процесс обучения/точность модели на тестовой выборке? "
   ]
  },
  {
   "cell_type": "code",
   "execution_count": null,
   "id": "46b1db1d",
   "metadata": {},
   "outputs": [],
   "source": []
  },
  {
   "cell_type": "markdown",
   "id": "56317873",
   "metadata": {},
   "source": [
    "__Бонусные пункт__\n",
    "\n",
    "__(ж)__ Снова рассмотрим задачу обучения без ограничений, но добавим к ней регуляризатор 1) $\\lambda \\| x \\|_1$ c $\\lambda  > 0$, 2) $\\lambda \\| x \\|_2$ c $\\lambda  > 0$. Сможем ли для новой задачи с регуляризатором использовать честный градиентный спуск без модификаций? Почему? Предложите свои идеи, как модифицировать градиентный спуск для новой задачи. Проведите для него эксперименты из пунктов г) и д).  Пробуйте различные $\\lambda > 0$ и найдите лучшее (опишите почему именно такое лучшее). Сравните результаты с пунктом e)."
   ]
  },
  {
   "cell_type": "code",
   "execution_count": null,
   "id": "caad1f26",
   "metadata": {},
   "outputs": [],
   "source": [
    "#ответ"
   ]
  },
  {
   "cell_type": "markdown",
   "id": "5de0ffdd",
   "metadata": {},
   "source": [
    "__(з)__ Воспользуемся для нашей задачи методом [PCA](https://ru.wikipedia.org/wiki/Метод_главных_компонент). Прочитайте про него подробнее и опишите основную идею."
   ]
  },
  {
   "cell_type": "code",
   "execution_count": null,
   "id": "db1b1c66",
   "metadata": {},
   "outputs": [],
   "source": [
    "#ответ \n"
   ]
  },
  {
   "cell_type": "markdown",
   "id": "35d55f20",
   "metadata": {},
   "source": [
    "Следующий код запускает PCA для нашего датасета. Убедитесь, что понимаете происходящие."
   ]
  },
  {
   "cell_type": "code",
   "execution_count": 16,
   "id": "d3a91111",
   "metadata": {},
   "outputs": [
    {
     "name": "stdout",
     "output_type": "stream",
     "text": [
      "[0.17005028 0.30175764 0.3954282  0.45782477 0.49763949 0.53565536\n",
      " 0.56808839 0.59620613 0.62329393 0.64530114]\n"
     ]
    }
   ],
   "source": [
    "from sklearn.decomposition import PCA\n",
    "\n",
    "pca = PCA(n_components=10)\n",
    "pca.fit(X_train)  #эта строчка будет работать только если есть матрица X_train\n",
    "print (pca.explained_variance_ratio_.cumsum())"
   ]
  },
  {
   "cell_type": "markdown",
   "id": "086cf178",
   "metadata": {},
   "source": [
    "Какое значение n_components разумно поставить? Для новой матрицы X_train повторите пункт ж). Измерьте время работы процесса обучения. Постройте график точности решения на тестовой выборке от времени работы для честного X_train и полученного с помощью PCA."
   ]
  },
  {
   "cell_type": "code",
   "execution_count": null,
   "id": "bc380da1",
   "metadata": {},
   "outputs": [],
   "source": []
  }
 ],
 "metadata": {
  "kernelspec": {
   "display_name": "Python 3 (ipykernel)",
   "language": "python",
   "name": "python3"
  },
  "language_info": {
   "codemirror_mode": {
    "name": "ipython",
    "version": 3
   },
   "file_extension": ".py",
   "mimetype": "text/x-python",
   "name": "python",
   "nbconvert_exporter": "python",
   "pygments_lexer": "ipython3",
   "version": "3.10.6"
  }
 },
 "nbformat": 4,
 "nbformat_minor": 5
}
