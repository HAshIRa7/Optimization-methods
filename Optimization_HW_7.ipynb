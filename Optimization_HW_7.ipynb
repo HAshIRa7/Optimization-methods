{
 "cells": [
  {
   "cell_type": "markdown",
   "id": "0a6fcbb6",
   "metadata": {},
   "source": [
    "# Домашнее задание 7\n",
    "\n",
    "Это домашнее задание по материалам второго семинаров. Дедлайн по отправке - 23:55 7 апреля. \n",
    "\n",
    "Домашнее задание выполняется в этом же Jupyter Notebook'e и присылается мне на почту: __beznosikov.an@phystech.edu__.\n",
    "\n",
    "Решение каждой задачи необходимо поместить после её условия.\n",
    "\n",
    "Файл должен называться: Фамилия_Имя_Optimization_HW_7\n",
    "\n",
    "При полном запуске Вашего решения (Kernel -> Restart & Run All) все ячейки должны выполняться без ошибок. "
   ]
  },
  {
   "cell_type": "markdown",
   "id": "969a8d32",
   "metadata": {},
   "source": [
    "## Задача 1\n",
    "\n",
    "Рассмотрим \"распределенную\" задачу минимизации:\n",
    "\\begin{equation}\n",
    "\\min_{x \\in \\mathbb{R}^d} f(x) = \\frac{1}{n} \\sum\\limits_{i=1}^n f_i(x) = \\frac{1}{2n} \\sum\\limits_{i=1}^n x^T A_i x - b^T_i x,\n",
    "\\end{equation}\n",
    "где $n = 10$, в качестве матриц $\\{A_i\\}_{i=1}^n$ - случайные матрицы с $L =1000$, $\\mu = 1$, $d = 100$, $\\{b_i\\}_{i=1}^n$ - так же случайные векторы.\n",
    "\n",
    "__(а)__ Для такой задачи симулируем распределенное решение (вычисления на 1 компьютере, без распараллеливания). \n",
    "Реализуйте обычный распределенный градиентый спуск с операторами сжатия. Сжимайте информацию только от устройств к серверу. Используйте операторы сжатия $\\text{Rand}1\\%$, $\\text{Rand}5\\%$, $\\text{Rand}10\\%$, $\\text{Rand}20\\%$. Для каждого случая подберите шаг $\\gamma$ для наилучшей сходимости, постройте сравнительный график сходимости (по оси $y$ - критерий $\\| \\nabla f(x^k)\\|^2$, а по оси $x$ - число \"переданной информации\" от устройств к серверу). Сделайте вывод."
   ]
  },
  {
   "cell_type": "code",
   "execution_count": 1,
   "id": "1340b577",
   "metadata": {},
   "outputs": [],
   "source": [
    "import numpy as np \n",
    "import matplotlib.pyplot as plt \n",
    "import math  \n",
    "import time \n",
    "from numpy import linalg   \n",
    "import random  "
   ]
  },
  {
   "cell_type": "code",
   "execution_count": 2,
   "id": "69d6f874",
   "metadata": {},
   "outputs": [],
   "source": [
    "random.seed(42) "
   ]
  },
  {
   "cell_type": "code",
   "execution_count": 3,
   "id": "740c7d76",
   "metadata": {},
   "outputs": [],
   "source": [
    "def rvs(dim=3):\n",
    "     random_state = np.random\n",
    "     H = np.eye(dim)\n",
    "     D = np.ones((dim,))\n",
    "     for n in range(1, dim):\n",
    "         x = random_state.normal(size=(dim-n+1,))\n",
    "         D[n-1] = np.sign(x[0])\n",
    "         x[0] -= D[n-1]*np.sqrt((x*x).sum())\n",
    "         # Householder transformation\n",
    "         Hx = (np.eye(dim-n+1) - 2.*np.outer(x, x)/(x*x).sum())\n",
    "         mat = np.eye(dim)\n",
    "         mat[n-1:, n-1:] = Hx\n",
    "         H = np.dot(H, mat)\n",
    "     D[-1] = (-1)**(1-(dim % 2))*D.prod()\n",
    "     H = (D*H.T).T\n",
    "     return H\n",
    "    \n",
    "def generate_matrix(d, m, L):  \n",
    "    A = np.eye(d) \n",
    "    A[0, 0] = L\n",
    "    A[1, 1] = m\n",
    "    S = rvs(d) \n",
    "    A = np.dot(np.linalg.inv(S), np.dot(A, S))\n",
    "    return A "
   ]
  },
  {
   "cell_type": "code",
   "execution_count": 4,
   "id": "cba54042",
   "metadata": {},
   "outputs": [],
   "source": [
    "L = 1000 \n",
    "mu = 1 \n",
    "d = 100 \n",
    "n = 10  \n",
    "\n",
    "A = [] \n",
    "b = []\n",
    "for i in range(n): \n",
    "    A.append(generate_matrix(d, mu, L))  \n",
    "    b.append(np.random.normal(d))"
   ]
  },
  {
   "cell_type": "code",
   "execution_count": 50,
   "id": "3ba553f3",
   "metadata": {},
   "outputs": [],
   "source": [
    "def RandK(percent, vector, d):  \n",
    "    k = int(percent * d)\n",
    "    indices = random.sample(range(0, d, 1), k) \n",
    "    new_vector = np.zeros(d) \n",
    "    for i in indices: \n",
    "        new_vector[i] = vector[i]  \n",
    "    return (1/percent) * new_vector"
   ]
  },
  {
   "cell_type": "code",
   "execution_count": 51,
   "id": "470a5989",
   "metadata": {},
   "outputs": [],
   "source": [
    "def TopK(percent, vector, d): \n",
    "    k = int(percent * d) \n",
    "    indices = np.argpartition(np.absolute(vector), -k)[-k:] \n",
    "    new_vector = np.zeros(d) \n",
    "    for i in indices: \n",
    "        new_vector[i] = vector[i] \n",
    "    return new_vector"
   ]
  },
  {
   "cell_type": "code",
   "execution_count": 75,
   "id": "62117b33",
   "metadata": {},
   "outputs": [
    {
     "name": "stdout",
     "output_type": "stream",
     "text": [
      "[  0  -1   2  -3   4  -5   6  -7   8  -9  10 -11  12 -13  14 -15  16 -17\n",
      "  18 -19  20 -21  22 -23  24 -25  26 -27  28 -29  30 -31  32 -33  34 -35\n",
      "  36 -37  38 -39  40 -41  42 -43  44 -45  46 -47  48 -49  50 -51  52 -53\n",
      "  54 -55  56 -57  58 -59  60 -61  62 -63  64 -65  66 -67  68 -69  70 -71\n",
      "  72 -73  74 -75  76 -77  78 -79  80 -81  82 -83  84 -85  86 -87  88 -89\n",
      "  90 -91  92 -93  94 -95  96 -97  98 -99]\n",
      "[  0.   0.   0.   0.   0.   0.   0.   0.   0.   0.   0.   0.   0.   0.\n",
      "   0.   0.   0.   0.   0.   0.   0.   0.   0.   0.   0.   0.   0.   0.\n",
      "   0.   0.   0.   0.   0.   0.   0.   0.   0.   0.   0.   0.   0.   0.\n",
      "   0.   0.   0.   0.   0.   0.   0.   0.   0.   0.   0.   0.   0.   0.\n",
      "   0.   0.   0.   0.   0.   0.   0.   0.   0.   0.   0.   0.   0.   0.\n",
      "   0.   0.   0.   0.   0.   0.   0.   0.   0.   0.   0.   0.   0.   0.\n",
      "   0.   0.   0.   0.   0.   0.  90. -91.  92. -93.  94. -95.  96. -97.\n",
      "  98. -99.]\n"
     ]
    }
   ],
   "source": [
    "a = np.array(range(d))  \n",
    "for i in range(1, len(a), 2): \n",
    "    a[i] = -a[i]\n",
    "print(a)\n",
    "print(TopK(0.1, a, d))"
   ]
  },
  {
   "cell_type": "code",
   "execution_count": 52,
   "id": "b0a4d008",
   "metadata": {},
   "outputs": [],
   "source": [
    "def Compression(name, percent, vector, d): \n",
    "    if(name=='RandK'): \n",
    "        return RandK(percent, vector, d) \n",
    "    elif(name=='TopK'): \n",
    "        return TopK(percent, vector, d)"
   ]
  },
  {
   "cell_type": "code",
   "execution_count": 53,
   "id": "ded3ff43",
   "metadata": {},
   "outputs": [],
   "source": [
    "def grad(A, b, x, d):  \n",
    "    g = np.zeros(d) \n",
    "    g = 1/2 * np.dot((A + A.T), x) - b\n",
    "    return g  "
   ]
  },
  {
   "cell_type": "code",
   "execution_count": 57,
   "id": "610299d6",
   "metadata": {},
   "outputs": [],
   "source": [
    "class GradientDescent: \n",
    "    def __init__(self, A, b, max_info, lr, workers, name, percents, d): \n",
    "        self.A = A \n",
    "        self.b = b \n",
    "        self.max_info = max_info  \n",
    "        self.lr = lr \n",
    "        self.x = None \n",
    "        self.information_send = [] \n",
    "        self.grad_history = [] \n",
    "        self.workers = workers \n",
    "        self.name = name\n",
    "        self.percents = percents  \n",
    "        self.d = d \n",
    "        self.k = int(percents * d)\n",
    "    \n",
    "    def fit(self): \n",
    "        self.x = np.zeros(self.d)\n",
    "        for i in range(0, self.max_info, self.k * self.workers):  \n",
    "            g = np.zeros(self.d) \n",
    "            full_g = np.zeros(self.d)\n",
    "            for j in range(self.workers): \n",
    "                h = grad(A[j], b[j], self.x, self.d) \n",
    "                full_g = full_g + h \n",
    "                g = g + Compression(self.name, self.percents, h, self.d)  \n",
    "            g *= 1/self.workers \n",
    "            full_g *= 1/self.workers \n",
    "            self.x = self.x - self.lr * g\n",
    "            self.grad_history.append(np.linalg.norm(full_g)**2)\n",
    "            self.information_send.append(i + self.workers * self.k) "
   ]
  },
  {
   "cell_type": "code",
   "execution_count": 58,
   "id": "54e4a788",
   "metadata": {},
   "outputs": [],
   "source": [
    "gd_rand_1 = GradientDescent(A, b, 10**5, 1/L, n, 'RandK', 0.01, d)  \n",
    "gd_rand_5 = GradientDescent(A, b, 10**5, 1/L, n, 'RandK', 0.05, d) \n",
    "gd_rand_10 = GradientDescent(A, b, 10**5, 1/L, n, 'RandK', 0.1, d) \n",
    "gd_rand_20 = GradientDescent(A, b, 10**5, 1/L, n, 'RandK', 0.2, d)"
   ]
  },
  {
   "cell_type": "code",
   "execution_count": 59,
   "id": "280db8f9",
   "metadata": {},
   "outputs": [],
   "source": [
    "gd_rand_1.fit() \n",
    "gd_rand_5.fit() \n",
    "gd_rand_10.fit() \n",
    "gd_rand_20.fit() "
   ]
  },
  {
   "cell_type": "code",
   "execution_count": 66,
   "id": "9056f7b9",
   "metadata": {},
   "outputs": [
    {
     "name": "stdout",
     "output_type": "stream",
     "text": [
      "1000\n"
     ]
    }
   ],
   "source": [
    "print(L)"
   ]
  },
  {
   "cell_type": "code",
   "execution_count": 82,
   "id": "9911802c",
   "metadata": {},
   "outputs": [],
   "source": [
    "gd_top_10 = GradientDescent(A, b, 10**6, 1/(2 * L), n, 'TopK', 0.2, d)\n",
    "gd_top_10.fit() "
   ]
  },
  {
   "cell_type": "code",
   "execution_count": 83,
   "id": "07aa2f8d",
   "metadata": {},
   "outputs": [
    {
     "data": {
      "image/png": "[encoded data removed]",
      "text/plain": [
       "<Figure size 1440x936 with 1 Axes>"
      ]
     },
     "metadata": {
      "needs_background": "light"
     },
     "output_type": "display_data"
    }
   ],
   "source": [
    "plt.figure(figsize=(20, 13))  \n",
    "plt.title('Speed of compression', fontsize=16)  \n",
    "plt.plot(gd_rand_1.information_send, np.log(gd_rand_1.grad_history), label='Rand1%') \n",
    "plt.plot(gd_rand_5.information_send, np.log(gd_rand_5.grad_history), label='Rand5%') \n",
    "plt.plot(gd_rand_10.information_send, np.log(gd_rand_10.grad_history), label='Rand10%') \n",
    "plt.plot(gd_rand_20.information_send, np.log(gd_rand_20.grad_history), label='Rand20%')  \n",
    "plt.plot(gd_top_10.information_send, np.log(gd_top_10.grad_history), label='Top10%')\n",
    "plt.xlabel('number of nonzero components send', fontsize=16) \n",
    "plt.ylabel(r\"$log(||\\nabla f||^{2})$\", fontsize=16)\n",
    "plt.grid() \n",
    "plt.legend() \n",
    "plt.show()"
   ]
  },
  {
   "cell_type": "markdown",
   "id": "ecdb57fe",
   "metadata": {},
   "source": [
    "__(б)__ Теперь будем использовать в качестве операторов сжатия $\\text{Top}10\\%$. Сжимайте информацию только от устройств к серверу. Используйте два метода: обычный распределенный градиентный спуск с операторами сжатия, также распределенный градиентный спуск с техникой компесации ошибки (error feedback - смотри Алгоритм 1 из [статьи](https://arxiv.org/abs/2002.12410)). Для каждого метода подберите шаг $\\gamma$ для наилучшей сходимости, постройте сравнительный график сходимости (по оси $y$ - критерий $\\| \\nabla f(x^k)\\|^2$, а по оси $x$ - число итераций/коммуникаций). Сделайте вывод."
   ]
  },
  {
   "cell_type": "code",
   "execution_count": 31,
   "id": "7a8729c2",
   "metadata": {},
   "outputs": [],
   "source": [
    "class GradientDescent: \n",
    "    def __init__(self, A, b, max_iter, lr, workers, name, percents, d): \n",
    "        self.A = A \n",
    "        self.b = b \n",
    "        self.max_iter = max_iter  \n",
    "        self.lr = lr \n",
    "        self.x = None \n",
    "        self.iteration = [] \n",
    "        self.grad_history = [] \n",
    "        self.workers = workers \n",
    "        self.name = name\n",
    "        self.percents = percents  \n",
    "        self.d = d \n",
    "        self.k = int(percents * d)\n",
    "    \n",
    "    def fit(self): \n",
    "        self.x = np.zeros(self.d)\n",
    "        for i in range(self.max_iter):  \n",
    "            g = np.zeros(self.d) \n",
    "            full_g = np.zeros(self.d)\n",
    "            for j in range(self.workers): \n",
    "                h = grad(A[j], b[j], self.x, self.d) \n",
    "                full_g = full_g + h \n",
    "                g = g + Compression(self.name, self.percents, h, self.d)  \n",
    "            g *= 1/self.workers \n",
    "            full_g *= 1/self.workers \n",
    "            self.x = self.x - self.lr * g\n",
    "            self.grad_history.append(np.linalg.norm(full_g)**2)\n",
    "            self.iteration.append(i + 1) "
   ]
  },
  {
   "cell_type": "code",
   "execution_count": 41,
   "id": "46b1db1d",
   "metadata": {},
   "outputs": [],
   "source": [
    "class EFGradientDescent: \n",
    "    def __init__(self, A, b, max_iter, lr, workers, name, percents, d): \n",
    "        self.A = A \n",
    "        self.b = b \n",
    "        self.max_iter = max_iter  \n",
    "        self.lr = lr \n",
    "        self.x = None \n",
    "        self.iteration = [] \n",
    "        self.grad_history = [] \n",
    "        self.workers = workers \n",
    "        self.name = name\n",
    "        self.percents = percents  \n",
    "        self.d = d \n",
    "        self.k = int(percents * d)\n",
    "    \n",
    "    def fit(self): \n",
    "        self.x = np.zeros(self.d) \n",
    "        e_help = [] \n",
    "        for i in range(self.workers): \n",
    "            e_help.append(np.zeros(self.d))  \n",
    "        \n",
    "        for i in range(self.max_iter): \n",
    "            g = np.zeros(self.d) \n",
    "            full_g = np.zeros(self.d)\n",
    "            for j in range(self.workers): \n",
    "                h = grad(A[j], b[j], self.x, self.d) \n",
    "                full_g = full_g + h \n",
    "                grad_update = e_help[j] + self.lr * h  \n",
    "                grad_update_compression = Compression(self.name, self.percents, h, self.d)\n",
    "                g = g + grad_update_compression\n",
    "                e_help[j] = grad_update - grad_update_compression  \n",
    "            g *= 1/self.workers \n",
    "            full_g *= 1/self.workers\n",
    "            self.x = self.x - g  \n",
    "            self.grad_history.append(np.linalg.norm(full_g)**2)\n",
    "            self.iteration.append(i+1)  "
   ]
  },
  {
   "cell_type": "code",
   "execution_count": 42,
   "id": "5c1c56a6",
   "metadata": {},
   "outputs": [],
   "source": [
    "gd_top_10 = GradientDescent(A, b, 10**4, 1/5 * 1/L, n, 'TopK', 0.1, d) \n",
    "efgd_top_10 = EFGradientDescent(A, b, 10**4, 1/1000 * 1/L, n, 'TopK', 0.1, d) "
   ]
  },
  {
   "cell_type": "code",
   "execution_count": 43,
   "id": "5b9b9d92",
   "metadata": {},
   "outputs": [
    {
     "name": "stderr",
     "output_type": "stream",
     "text": [
      "/tmp/ipykernel_858194/675168206.py:31: RuntimeWarning: invalid value encountered in subtract\n",
      "  e_help[j] = grad_update - grad_update_compression\n",
      "/tmp/ipykernel_858194/675168206.py:27: RuntimeWarning: invalid value encountered in add\n",
      "  full_g = full_g + h\n",
      "/tmp/ipykernel_858194/675168206.py:27: RuntimeWarning: overflow encountered in add\n",
      "  full_g = full_g + h\n",
      "/tmp/ipykernel_858194/675168206.py:30: RuntimeWarning: invalid value encountered in add\n",
      "  g = g + grad_update_compression\n"
     ]
    }
   ],
   "source": [
    "gd_top_10.fit() \n",
    "efgd_top_10.fit()"
   ]
  },
  {
   "cell_type": "code",
   "execution_count": 44,
   "id": "5d42a61f",
   "metadata": {},
   "outputs": [
    {
     "data": {
      "image/png": "[encoded data removed]",
      "text/plain": [
       "<Figure size 1440x936 with 1 Axes>"
      ]
     },
     "metadata": {
      "needs_background": "light"
     },
     "output_type": "display_data"
    }
   ],
   "source": [
    "plt.figure(figsize=(20, 13))  \n",
    "plt.title('Speed of compression', fontsize=16)  \n",
    "plt.plot(gd_top_10.iteration, np.log(gd_top_10.grad_history), label='Top10%') \n",
    "plt.plot(efgd_top_10.iteration, np.log(efgd_top_10.grad_history), label='EF Top10%') \n",
    "plt.xlabel('iteration', fontsize=16) \n",
    "plt.ylabel(r\"$log(||\\nabla f||^{2})$\", fontsize=16)\n",
    "plt.grid() \n",
    "plt.legend() \n",
    "plt.show()"
   ]
  },
  {
   "cell_type": "markdown",
   "id": "c50d27e1",
   "metadata": {},
   "source": [
    "## Задача 2\n",
    "\n",
    "Рассмотрим задачу логистической регрессии на датасете mushrooms с $\\ell_2$-регуляризацией (коэффициент регуляризации равен $\\frac{L}{1000}$). \n",
    "\n",
    "__(а)__ Симмулируем распределенное решение. Для этого разделите обучающую выборку случайно и равномерно на $n=10$ частей. Каждая такая часть сформирует $f_i$."
   ]
  },
  {
   "cell_type": "code",
   "execution_count": null,
   "id": "3da8d15e",
   "metadata": {},
   "outputs": [],
   "source": []
  },
  {
   "cell_type": "code",
   "execution_count": 1,
   "id": "3cfdcc4e",
   "metadata": {},
   "outputs": [],
   "source": [
    "#ответ"
   ]
  },
  {
   "cell_type": "markdown",
   "id": "f5f7c504",
   "metadata": {},
   "source": [
    "__(б)__ Реализуйте симмуляцию (как в Задаче 1) обычного распределенного градиентного спуска с операторами сжатия, распределенного градиентного спуска с техникой error feedback, алгоритма DIANA (смотри Алгоритм 11 из [статьи](https://arxiv.org/abs/1905.11261)). Сжатия происходят только при пересылке от сервера к устройствам."
   ]
  },
  {
   "cell_type": "code",
   "execution_count": 2,
   "id": "e48c3edf",
   "metadata": {},
   "outputs": [],
   "source": [
    "#ответ"
   ]
  },
  {
   "cell_type": "markdown",
   "id": "d1335c12",
   "metadata": {},
   "source": [
    "__(в)__ Используйте операторы сжатия $\\text{Top}10\\%$ и $\\text{Rand}10\\%$ во всех трех методах (всего получается 6 разных подходов). Для каждого подхода подберите шаг $\\gamma$ для наилучшей сходимости, постройте 2 сравнительных графика сходимости (по оси $y$ - критерий $\\| \\nabla f(x^k)\\|^2$ или точность предсказаний, а по оси $x$ - число итераций/коммуникаций). Сделайте вывод."
   ]
  },
  {
   "cell_type": "code",
   "execution_count": null,
   "id": "5bb8952e",
   "metadata": {},
   "outputs": [],
   "source": [
    "#ответ"
   ]
  },
  {
   "cell_type": "markdown",
   "id": "56317873",
   "metadata": {},
   "source": [
    "__Бонусные пункты__\n",
    "\n",
    "__(г)__ Реализуйте два метода: [EF21](https://proceedings.neurips.cc/paper/2021/hash/231141b34c82aa95e48810a9d1b33a79-Abstract.html) и [MARINA](https://arxiv.org/abs/2102.07845). Добавьте их к сравнительному анализу из пункта (в) (здесь важно обратить внимание на особенности алгоритма MARINA и отразить это в анализе). Сделайте вывод. "
   ]
  },
  {
   "cell_type": "code",
   "execution_count": null,
   "id": "caad1f26",
   "metadata": {},
   "outputs": [],
   "source": [
    "#ответ"
   ]
  },
  {
   "cell_type": "markdown",
   "id": "5de0ffdd",
   "metadata": {},
   "source": [
    "__(д)__ Добавьте в лучшие 3 (на Ваш взгляд) метода (обычный GD с оператором сжатия, GD с EF, DIANA, EF21, MARINA) возможность сжимать и при передаче от сервера к устройству. Для сжатия используйте только $\\text{Top}10\\%$ и $\\text{Rand}10\\%$. Проведите серию экспериментов и ответьте на следующие пункты:\n",
    "\n",
    "1) Если при сжатии на сервере используются $\\text{Top}10\\%$ нужно ли использовать технику компесации ошибки на сервере? Опишите, как добавляли еe в метод (лучший вариант - выписать алгоритм частично или целиком). \n",
    "\n",
    "2) Перебирая разные комбинации из операторов $\\text{Top}10\\%$ и $\\text{Rand}10\\%$ для сжатия на сервера и на устройствах, найдите лучшую конфигурацию операторов сжатия для каждого метода.\n",
    "\n",
    "3) Какой метод и с каким операторами показал в итоге лучшие результаты? Использовался ли при этом дополнительный error feedback на сервере? "
   ]
  },
  {
   "cell_type": "code",
   "execution_count": null,
   "id": "ead8a333",
   "metadata": {},
   "outputs": [],
   "source": [
    "#ответ"
   ]
  }
 ],
 "metadata": {
  "kernelspec": {
   "display_name": "Python 3 (ipykernel)",
   "language": "python",
   "name": "python3"
  },
  "language_info": {
   "codemirror_mode": {
    "name": "ipython",
    "version": 3
   },
   "file_extension": ".py",
   "mimetype": "text/x-python",
   "name": "python",
   "nbconvert_exporter": "python",
   "pygments_lexer": "ipython3",
   "version": "3.10.6"
  }
 },
 "nbformat": 4,
 "nbformat_minor": 5
}
